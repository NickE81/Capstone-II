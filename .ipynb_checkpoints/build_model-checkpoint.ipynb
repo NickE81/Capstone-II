{
 "cells": [
  {
   "cell_type": "code",
   "execution_count": 1,
   "metadata": {},
   "outputs": [],
   "source": [
    "import numpy as np\n",
    "import matplotlib.pyplot as plt\n",
    "from nltk.tokenize import RegexpTokenizer\n",
    "from keras.models import Sequential\n",
    "from keras.layers import Dense, LSTM\n",
    "from keras.optimizers import SGD\n",
    "from sklearn.model_selection import train_test_split"
   ]
  },
  {
   "cell_type": "code",
   "execution_count": 2,
   "metadata": {},
   "outputs": [
    {
     "name": "stdout",
     "output_type": "stream",
     "text": [
      "44972\n",
      "4289\n",
      "Model: \"sequential\"\n",
      "_________________________________________________________________\n",
      "Layer (type)                 Output Shape              Param #   \n",
      "=================================================================\n",
      "lstm (LSTM)                  (None, 48)                832896    \n",
      "_________________________________________________________________\n",
      "dense (Dense)                (None, 4289)              210161    \n",
      "=================================================================\n",
      "Total params: 1,043,057\n",
      "Trainable params: 1,043,057\n",
      "Non-trainable params: 0\n",
      "_________________________________________________________________\n"
     ]
    }
   ],
   "source": [
    "file = 'data.txt'\n",
    "data = open(file).read().lower()\n",
    "\n",
    "token = RegexpTokenizer(r'\\w+')\n",
    "words = token.tokenize(data)\n",
    "\n",
    "print(len(words))\n",
    "\n",
    "unique_words = np.unique(words)\n",
    "unique_word_index = dict((word, i) for i, word in enumerate(unique_words))\n",
    "number_of_words = len(unique_words)\n",
    "print(number_of_words)\n",
    "\n",
    "MEMORY_LENGTH = 5\n",
    "prev_words = []\n",
    "next_words = []\n",
    "for j in range(len(words) - MEMORY_LENGTH):\n",
    "    prev_words.append(words[j:j + MEMORY_LENGTH])\n",
    "    next_words.append(words[j + MEMORY_LENGTH])\n",
    "\n",
    "X = np.zeros((len(prev_words), MEMORY_LENGTH, number_of_words))\n",
    "Y = np.zeros((len(next_words), number_of_words))\n",
    "for i, each_words in enumerate(prev_words):\n",
    "    for j, each_word in enumerate(each_words):\n",
    "        X[i, j, unique_word_index[each_word]] = 1\n",
    "    Y[i, unique_word_index[each_word]] = 1\n",
    "\n",
    "train_X, test_X, train_Y, test_Y = train_test_split(X, Y, test_size = 0.25, random_state = 5)\n",
    "\n",
    "model = Sequential()\n",
    "model.add(LSTM(48, activation = 'relu', kernel_initializer = 'he_uniform', input_shape = (MEMORY_LENGTH, number_of_words)))\n",
    "model.add(Dense(number_of_words, activation = 'softmax'))\n",
    "opt = SGD()\n",
    "model.summary()\n",
    "model.compile(optimizer = opt, loss = 'categorical_crossentropy')"
   ]
  },
  {
   "cell_type": "code",
   "execution_count": null,
   "metadata": {},
   "outputs": [
    {
     "name": "stdout",
     "output_type": "stream",
     "text": [
      "Epoch 1/10\n",
      "1054/1054 [==============================] - 30s 29ms/step - loss: 8.3303\n",
      "Epoch 2/10\n",
      "1054/1054 [==============================] - 28s 27ms/step - loss: 8.2629\n",
      "Epoch 3/10\n",
      "1054/1054 [==============================] - 27s 26ms/step - loss: 8.1938\n",
      "Epoch 4/10\n",
      "1054/1054 [==============================] - 27s 25ms/step - loss: 8.1161\n",
      "Epoch 5/10\n",
      "1054/1054 [==============================] - 27s 26ms/step - loss: 7.9674\n",
      "Epoch 6/10\n",
      "1054/1054 [==============================] - 28s 26ms/step - loss: 6.7224\n",
      "Epoch 7/10\n",
      "1054/1054 [==============================] - 27s 25ms/step - loss: 6.4335 0s - loss:\n",
      "Epoch 8/10\n",
      "1054/1054 [==============================] - 27s 26ms/step - loss: 6.4003\n",
      "Epoch 9/10\n",
      "1054/1054 [==============================] - 28s 26ms/step - loss: 6.3746\n",
      "Epoch 10/10\n",
      "1054/1054 [==============================] - 28s 26ms/step - loss: 6.3315\n"
     ]
    }
   ],
   "source": [
    "model.fit(train_X, train_Y, epochs = 10, batch_size = 32, verbose = 1)\n",
    "model.save('model.h5')"
   ]
  },
  {
   "cell_type": "code",
   "execution_count": null,
   "metadata": {},
   "outputs": [],
   "source": []
  }
 ],
 "metadata": {
  "kernelspec": {
   "display_name": "Python 3",
   "language": "python",
   "name": "python3"
  },
  "language_info": {
   "codemirror_mode": {
    "name": "ipython",
    "version": 3
   },
   "file_extension": ".py",
   "mimetype": "text/x-python",
   "name": "python",
   "nbconvert_exporter": "python",
   "pygments_lexer": "ipython3",
   "version": "3.7.6"
  }
 },
 "nbformat": 4,
 "nbformat_minor": 4
}
